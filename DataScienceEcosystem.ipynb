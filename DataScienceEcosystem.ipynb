{
  "metadata": {
    "kernelspec": {
      "name": "xeus-python",
      "display_name": "Python (XPython)",
      "language": "python"
    },
    "language_info": {
      "file_extension": ".py",
      "mimetype": "text/x-python",
      "name": "python",
      "version": "3.10.2"
    }
  },
  "nbformat_minor": 4,
  "nbformat": 4,
  "cells": [
    {
      "cell_type": "markdown",
      "source": "## Data Science Tools and Ecosystem",
      "metadata": {}
    },
    {
      "cell_type": "markdown",
      "source": "## in this notebook, Data Science tools and Ecosystem are summareized",
      "metadata": {}
    },
    {
      "cell_type": "markdown",
      "source": "## Some of the popoular languages that datascientists use are\n1.python\n2.R\n3.Java",
      "metadata": {}
    },
    {
      "cell_type": "markdown",
      "source": "## Some of the commonly used libraries by data scientists are:\n1.Jupitarnotebook\n2.Panda\n3.Numpy",
      "metadata": {}
    },
    {
      "cell_type": "markdown",
      "source": "## Data Science Tools\n1.ApacheSpark\n2.TensorFlow\n3.MatplotLib",
      "metadata": {}
    },
    {
      "cell_type": "markdown",
      "source": "## Introducing Arthmetic Expression in Python\nBelow are few examples of evaluating arithmetic expression in python",
      "metadata": {}
    },
    {
      "cell_type": "code",
      "source": "#This is a simple arithmetic expression to multipy and then add integers\n(3*4)+5",
      "metadata": {
        "trusted": true
      },
      "outputs": [
        {
          "execution_count": 6,
          "output_type": "execute_result",
          "data": {
            "text/plain": "17"
          },
          "metadata": {}
        }
      ],
      "execution_count": 6
    },
    {
      "cell_type": "code",
      "source": "#This will convert 200 minutes to hours by diving by 60\n200/60",
      "metadata": {
        "trusted": true
      },
      "outputs": [
        {
          "execution_count": 8,
          "output_type": "execute_result",
          "data": {
            "text/plain": "3.3333333333333335"
          },
          "metadata": {}
        }
      ],
      "execution_count": 8
    },
    {
      "cell_type": "markdown",
      "source": "## Objectives\n(Creating code and markdown cell)\n(Papular Data Sciences Languages)\n(Commonly used Data Science Libraries)\n(Data Science tools)\n(General Evaluation of Arithmetic expression)",
      "metadata": {}
    },
    {
      "cell_type": "markdown",
      "source": "## Author\nAmber Jabeen",
      "metadata": {}
    },
    {
      "cell_type": "code",
      "source": "",
      "metadata": {
        "trusted": true
      },
      "outputs": [],
      "execution_count": null
    }
  ]
}